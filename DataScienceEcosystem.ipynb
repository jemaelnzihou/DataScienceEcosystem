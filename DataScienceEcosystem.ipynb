{
 "cells": [
  {
   "cell_type": "markdown",
   "id": "be6a983b",
   "metadata": {},
   "source": [
    "# Data Science Tools and Ecosystem"
   ]
  },
  {
   "cell_type": "markdown",
   "id": "73cf80ed",
   "metadata": {},
   "source": [
    "# Introduction\n",
    "\n",
    "In this notebook, **Data Science Tools and Ecosystem** are summarized. \n",
    "The exercises in this notebook will guide you to:\n",
    "1. Create a Jupyter Notebook\n",
    "2. Inserte code and markdown cells\n",
    "3. Share the notebook through GitHub\n",
    "\n",
    "Each step includes screenshots to document the progress.\n",
    "By the end of this assignment, you will have a clear understanding of the essential tools and techniques in the data science ecosystem.\n"
   ]
  },
  {
   "cell_type": "markdown",
   "id": "4260783a",
   "metadata": {},
   "source": [
    "**Some of the popular languages that Data Scientists use are:**\n",
    "\n",
    "1. Python\n",
    "2. R\n",
    "3. SQL\n",
    "4. Julia\n",
    "5. Scala\n"
   ]
  },
  {
   "cell_type": "markdown",
   "id": "9008c7f8",
   "metadata": {},
   "source": [
    "**Some of the commonly used libraries used by Data Scientists include:**\n",
    "\n",
    "1. Pandas\n",
    "2. NumPy\n",
    "3. Scikit-learn\n",
    "4. TensorFlow\n",
    "5. Matplotlib\n"
   ]
  },
  {
   "cell_type": "markdown",
   "id": "36f954d1",
   "metadata": {},
   "source": [
    "**Here’s an example of how you can create a Markdown cell with a table of Data Science tools:**\n",
    "\n",
    "| Data Science Tools      |\n",
    "|-------------------------|\n",
    "| Jupyter Notebook         |\n",
    "| RStudio                  |\n",
    "| Apache Zeppelin          |\n"
   ]
  },
  {
   "cell_type": "markdown",
   "id": "78ab2eb8",
   "metadata": {},
   "source": [
    "### Below are a few examples of evaluating arithmetic expressions in Python.\n"
   ]
  },
  {
   "cell_type": "code",
   "execution_count": 2,
   "id": "1b655d23",
   "metadata": {},
   "outputs": [
    {
     "data": {
      "text/plain": [
       "17"
      ]
     },
     "execution_count": 2,
     "metadata": {},
     "output_type": "execute_result"
    }
   ],
   "source": [
    "# This is a simple arithmetic expression to multiply then add integers\n",
    "(3 * 4) + 5\n"
   ]
  },
  {
   "cell_type": "markdown",
   "id": "30d346e0",
   "metadata": {},
   "source": [
    "**This code cell writes an expression that converts 200 minutes into hours.**"
   ]
  },
  {
   "cell_type": "code",
   "execution_count": 3,
   "id": "91c4ca00",
   "metadata": {},
   "outputs": [
    {
     "data": {
      "text/plain": [
       "3.3333333333333335"
      ]
     },
     "execution_count": 3,
     "metadata": {},
     "output_type": "execute_result"
    }
   ],
   "source": [
    "# This will convert 200 minutes to hours by dividing by 60\n",
    "200 / 60\n"
   ]
  },
  {
   "cell_type": "markdown",
   "id": "f6db1ccd",
   "metadata": {},
   "source": [
    "### Here are some of the key takeaways from the course\n",
    "\n",
    "**Objectives:**\n",
    "\n",
    "- List popular languages for Data Science.\n",
    "- Identify commonly used libraries in Data Science.\n",
    "- Understand the use of data science tools.\n",
    "- Evaluate arithmetic expressions in Python.\n",
    "- Create and share a Jupyter Notebook via GitHub.\n"
   ]
  },
  {
   "cell_type": "markdown",
   "id": "905d8055",
   "metadata": {},
   "source": [
    "### Here’s how the markdown cell for indicating the author's name should look:\n",
    "\n",
    "## Author\n",
    "Jemael Nzihou\n"
   ]
  },
  {
   "cell_type": "markdown",
   "id": "90df3b25",
   "metadata": {},
   "source": []
  }
 ],
 "metadata": {
  "kernelspec": {
   "display_name": "Python 3 (ipykernel)",
   "language": "python",
   "name": "python3"
  },
  "language_info": {
   "codemirror_mode": {
    "name": "ipython",
    "version": 3
   },
   "file_extension": ".py",
   "mimetype": "text/x-python",
   "name": "python",
   "nbconvert_exporter": "python",
   "pygments_lexer": "ipython3",
   "version": "3.11.5"
  }
 },
 "nbformat": 4,
 "nbformat_minor": 5
}
